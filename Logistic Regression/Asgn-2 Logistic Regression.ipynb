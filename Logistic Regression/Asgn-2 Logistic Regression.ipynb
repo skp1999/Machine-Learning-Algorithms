{
 "cells": [
  {
   "cell_type": "markdown",
   "metadata": {},
   "source": [
    "## Import the Libraries"
   ]
  },
  {
   "cell_type": "code",
   "execution_count": 44,
   "metadata": {},
   "outputs": [],
   "source": [
    "import numpy as np\n",
    "import pandas as pd\n",
    "import matplotlib.pyplot as plt\n",
    "import os\n",
    "\n",
    "import warnings\n",
    "warnings.filterwarnings('ignore')"
   ]
  },
  {
   "cell_type": "markdown",
   "metadata": {},
   "source": [
    "## Import Dataset"
   ]
  },
  {
   "cell_type": "code",
   "execution_count": 60,
   "metadata": {},
   "outputs": [],
   "source": [
    "data=pd.read_csv('C:/Users/Shikhar/Desktop/ML/Asgn-2/data/winequality-red.csv', sep=';')"
   ]
  },
  {
   "cell_type": "markdown",
   "metadata": {},
   "source": [
    "## Convert all the values in quality attribute to 0 (bad) if the value is less than or equal to ‘6’ and others to 1(good)"
   ]
  },
  {
   "cell_type": "code",
   "execution_count": 61,
   "metadata": {},
   "outputs": [],
   "source": [
    "x=data['quality']\n",
    "for i in range(len(x)):\n",
    "    if(x[i] <=6):\n",
    "        x[i]=0\n",
    "    else:\n",
    "        x[i]=1"
   ]
  },
  {
   "cell_type": "markdown",
   "metadata": {},
   "source": [
    "## MIN-MAX Scaling"
   ]
  },
  {
   "cell_type": "code",
   "execution_count": 62,
   "metadata": {},
   "outputs": [],
   "source": [
    "## Min-max scaling on all the columns of the dataframe\n",
    "\n",
    "s='fixed acidity'\n",
    "data[s]=(data[s]-data[s].min())/(data[s].max()-data[s].min())\n",
    "\n",
    "s='volatile acidity'\n",
    "data[s]=(data[s]-data[s].min())/(data[s].max()-data[s].min())\n",
    "\n",
    "s='citric acid'\n",
    "data[s]=(data[s]-data[s].min())/(data[s].max()-data[s].min())\n",
    "\n",
    "s='residual sugar'\n",
    "data[s]=(data[s]-data[s].min())/(data[s].max()-data[s].min())\n",
    "\n",
    "s='chlorides'\n",
    "data[s]=(data[s]-data[s].min())/(data[s].max()-data[s].min())\n",
    "\n",
    "s='free sulfur dioxide'\n",
    "data[s]=(data[s]-data[s].min())/(data[s].max()-data[s].min())\n",
    "\n",
    "s='total sulfur dioxide'\n",
    "data[s]=(data[s]-data[s].min())/(data[s].max()-data[s].min())\n",
    "\n",
    "s='density'\n",
    "data[s]=(data[s]-data[s].min())/(data[s].max()-data[s].min())\n",
    "\n",
    "s='pH'\n",
    "data[s]=(data[s]-data[s].min())/(data[s].max()-data[s].min())\n",
    "\n",
    "s='sulphates'\n",
    "data[s]=(data[s]-data[s].min())/(data[s].max()-data[s].min())\n",
    "\n",
    "s='alcohol'\n",
    "data[s]=(data[s]-data[s].min())/(data[s].max()-data[s].min())"
   ]
  },
  {
   "cell_type": "markdown",
   "metadata": {},
   "source": [
    "# Dataset is ready for Logistic Regression"
   ]
  },
  {
   "cell_type": "markdown",
   "metadata": {},
   "source": [
    "## Activation function - sigmoid"
   ]
  },
  {
   "cell_type": "code",
   "execution_count": 63,
   "metadata": {},
   "outputs": [],
   "source": [
    "#Dataset to be used\n",
    "\n",
    "X=pd.DataFrame(data = data, columns = ['fixed acidity', 'volatile acidity', 'citric acid', 'residual sugar', 'chlorides', 'free sulfur dioxide', 'total sulfur dioxide', 'density', 'pH', 'sulphates', 'alcohol'])\n",
    "y=pd.DataFrame(data = data, columns = ['quality'])"
   ]
  },
  {
   "cell_type": "code",
   "execution_count": 64,
   "metadata": {},
   "outputs": [],
   "source": [
    "x0=np.ones(X.shape[0])\n",
    "X.insert(0, 'X_ref', x0)                   # A column inserted for x0=1"
   ]
  },
  {
   "cell_type": "markdown",
   "metadata": {},
   "source": [
    "## Basic Model for Logistic Regression"
   ]
  },
  {
   "cell_type": "code",
   "execution_count": 65,
   "metadata": {},
   "outputs": [
    {
     "data": {
      "text/plain": [
       "86.42901813633522"
      ]
     },
     "execution_count": 65,
     "metadata": {},
     "output_type": "execute_result"
    }
   ],
   "source": [
    "def model(X,y):\n",
    "    \n",
    "    def sigmoid(z):\n",
    "        a=1/(1+np.exp(-z))\n",
    "        return a\n",
    "\n",
    "    def hypothesis(X,theta,m):                           #predicted values from the model\n",
    "\n",
    "        y_predicted = sigmoid(np.dot(X,theta))\n",
    "        return y_predicted\n",
    "\n",
    "    theta=np.zeros(X.shape[1])\n",
    "    theta_j=np.zeros(X.shape[1])\n",
    "\n",
    "    m=len(X.index)                                #number of training examples\n",
    "    num_iter=10000                         #number of iterations for parameters\n",
    "    learning_rate=0.01\n",
    "\n",
    "    for i in range(num_iter):\n",
    "        \n",
    "        y_predicted = hypothesis(X,theta,m)\n",
    "        sum1=(1/m)*(np.dot(X.T, y_predicted-y['quality']))             #derivative of cost function\n",
    "        theta_j = theta - learning_rate*sum1                          #gradient descent on parameters\n",
    "        theta = np.array(theta_j)\n",
    "\n",
    "\n",
    "    #Obtaining confusion matrix values to calculate accuracy\n",
    "    \n",
    "    True_Negative = 0\n",
    "    True_Positive = 0\n",
    "    False_Negative = 0\n",
    "    False_Positive = 0\n",
    "    for i in range(m):\n",
    "        output = np.dot(X.loc[i],theta)\n",
    "        predicted = sigmoid(output)\n",
    "\n",
    "        if(predicted >= 0.5 and y['quality'][i]==1):\n",
    "            True_Positive += 1\n",
    "        elif(predicted < 0.5 and y['quality'][i]==0):\n",
    "            True_Negative += 1\n",
    "        elif(predicted >= 0.5 and y['quality'][i]==0):\n",
    "            False_Positive += 1\n",
    "        elif(predicted < 0.5 and y['quality'][i]==1):\n",
    "            False_Negative += 1\n",
    "\n",
    "    acc = ((True_Positive+True_Negative)*100.0)/(True_Positive+True_Negative+False_Positive+False_Negative)\n",
    "    \n",
    "    return acc\n",
    "\n",
    "    \n",
    "model(X,y)"
   ]
  },
  {
   "cell_type": "markdown",
   "metadata": {},
   "source": [
    "## k-fold cross validation from scratch"
   ]
  },
  {
   "cell_type": "code",
   "execution_count": 66,
   "metadata": {},
   "outputs": [],
   "source": [
    "k=3\n",
    "\n",
    "X_train_1=X.loc[533:1599]\n",
    "y_train_1=y.loc[533:1599]\n",
    "X_train_1=X_train_1.reset_index()\n",
    "y_train_1=y_train_1.reset_index()\n",
    "X_train_1=X_train_1.drop(['index'], axis=1)\n",
    "y_train_1=y_train_1.drop(['index'], axis=1)\n",
    "\n",
    "X_train_2=pd.concat([X.loc[0:532],X.loc[1066:1598]],axis=0)\n",
    "y_train_2=pd.concat([y.loc[0:532],y.loc[1066:1598]],axis=0)\n",
    "X_train_2=X_train_2.reset_index()\n",
    "y_train_2=y_train_2.reset_index()\n",
    "X_train_2=X_train_2.drop(['index'], axis=1)\n",
    "y_train_2=y_train_2.drop(['index'], axis=1)\n",
    "\n",
    "X_train_3=X.loc[0:1065]\n",
    "y_train_3=y.loc[0:1065]\n",
    "X_train_3=X_train_3.reset_index()\n",
    "y_train_3=y_train_3.reset_index()\n",
    "X_train_3=X_train_3.drop(['index'],axis=1)\n",
    "y_train_3=y_train_3.drop(['index'],axis=1)"
   ]
  },
  {
   "cell_type": "code",
   "execution_count": 67,
   "metadata": {},
   "outputs": [
    {
     "name": "stdout",
     "output_type": "stream",
     "text": [
      "86.42901813633522\n"
     ]
    }
   ],
   "source": [
    "#Mean accuracy from all 3-folds of Cross Validation\n",
    "\n",
    "acc1=model(X_train_1,y_train_1)\n",
    "acc2=model(X_train_2,y_train_2)\n",
    "acc3=model(X_train_3,y_train_3)\n",
    "\n",
    "acc=(acc1+acc2+acc3)/3\n",
    "\n",
    "print(acc)                      # Accuracy from all the three sets of train and test data"
   ]
  },
  {
   "cell_type": "markdown",
   "metadata": {},
   "source": [
    "## Logistic Regression using ScikitLearn Library"
   ]
  },
  {
   "cell_type": "code",
   "execution_count": 68,
   "metadata": {},
   "outputs": [],
   "source": [
    "from sklearn import metrics\n",
    "from sklearn.linear_model import LogisticRegression\n",
    "from sklearn.model_selection import train_test_split\n",
    "from sklearn.model_selection import KFold\n",
    "from sklearn.model_selection import cross_val_score\n",
    "from sklearn.metrics import confusion_matrix, accuracy_score, f1_score, precision_score, recall_score"
   ]
  },
  {
   "cell_type": "code",
   "execution_count": 69,
   "metadata": {},
   "outputs": [
    {
     "name": "stdout",
     "output_type": "stream",
     "text": [
      "The accuracy from sklearn is : 87.74233896185115\n"
     ]
    }
   ],
   "source": [
    "logistic_regression = LogisticRegression()\n",
    "#using sklearn for comparing results\n",
    "logistic_regression.fit(X,y)\n",
    "LogisticRegression(solver='saga')\n",
    "y_predict = logistic_regression.predict(X)\n",
    "acc = metrics.accuracy_score(y,y_predict)\n",
    "print(\"The accuracy from sklearn is :\",acc*100.0)"
   ]
  },
  {
   "cell_type": "markdown",
   "metadata": {},
   "source": [
    "## k-fold cross validation using scikit learn"
   ]
  },
  {
   "cell_type": "code",
   "execution_count": 70,
   "metadata": {},
   "outputs": [
    {
     "name": "stdout",
     "output_type": "stream",
     "text": [
      "The accuracy for the Logistic Regression model using k-fold cross validation is : 86.74250387300826\n"
     ]
    }
   ],
   "source": [
    "k_fold_acc=cross_val_score(logistic_regression, X, y, cv=3)\n",
    "k_fold_mean=k_fold_acc.mean()\n",
    "print(\"The accuracy for the Logistic Regression model using k-fold cross validation is :\", k_fold_mean*100)"
   ]
  },
  {
   "cell_type": "code",
   "execution_count": 71,
   "metadata": {},
   "outputs": [
    {
     "name": "stdout",
     "output_type": "stream",
     "text": [
      "[[1358   24]\n",
      " [ 172   45]]\n"
     ]
    }
   ],
   "source": [
    "print(confusion_matrix(y,y_predict))"
   ]
  },
  {
   "cell_type": "markdown",
   "metadata": {},
   "source": [
    "## Metrics (Accuracy score, Precision Score and Recall) from the Model"
   ]
  },
  {
   "cell_type": "code",
   "execution_count": 72,
   "metadata": {},
   "outputs": [
    {
     "name": "stdout",
     "output_type": "stream",
     "text": [
      "Accuracy Score : 0.8774233896185115\n",
      "Prcision Score : 0.6521739130434783\n",
      "Recall Score : 0.2073732718894009\n"
     ]
    }
   ],
   "source": [
    "#Accuracy, Precision, Recall of the Model\n",
    "\n",
    "print(\"Accuracy Score :\", accuracy_score(y, y_predict))\n",
    "print(\"Prcision Score :\", precision_score(y,y_predict))\n",
    "print(\"Recall Score :\", recall_score(y,y_predict))"
   ]
  }
 ],
 "metadata": {
  "kernelspec": {
   "display_name": "Python 3",
   "language": "python",
   "name": "python3"
  },
  "language_info": {
   "codemirror_mode": {
    "name": "ipython",
    "version": 3
   },
   "file_extension": ".py",
   "mimetype": "text/x-python",
   "name": "python",
   "nbconvert_exporter": "python",
   "pygments_lexer": "ipython3",
   "version": "3.7.4"
  }
 },
 "nbformat": 4,
 "nbformat_minor": 2
}
